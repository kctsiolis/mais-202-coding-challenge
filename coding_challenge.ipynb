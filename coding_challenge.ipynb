{
 "cells": [
  {
   "cell_type": "markdown",
   "metadata": {},
   "source": [
    "My solution to the coding challenge for my application to the MAIS 202 course in the Winter 2019 semester. It involves using Python dictionaries to store and manipulate the data. This was done to emulate a hash table, so that data could be accessed in constant time."
   ]
  },
  {
   "cell_type": "code",
   "execution_count": 1,
   "metadata": {},
   "outputs": [],
   "source": [
    "import pandas as pd\n",
    "\n",
    "data = pd.read_csv(\"data.csv\")"
   ]
  },
  {
   "cell_type": "code",
   "execution_count": 2,
   "metadata": {
    "collapsed": true
   },
   "outputs": [],
   "source": [
    "int_rates = data.iloc[:,5]\n",
    "purposes = data.iloc[:,16]"
   ]
  },
  {
   "cell_type": "code",
   "execution_count": 3,
   "metadata": {
    "collapsed": true
   },
   "outputs": [],
   "source": [
    "dict = {}\n",
    "for i in purposes:\n",
    "    dict[i] = [0,0,0]"
   ]
  },
  {
   "cell_type": "code",
   "execution_count": 4,
   "metadata": {},
   "outputs": [],
   "source": [
    "counter = 0\n",
    "\n",
    "for i in purposes:\n",
    "    dict[i][1] += int_rates[counter]\n",
    "    dict[i][2] += 1\n",
    "    counter += 1"
   ]
  },
  {
   "cell_type": "code",
   "execution_count": 5,
   "metadata": {},
   "outputs": [],
   "source": [
    "for i in dict:\n",
    "    dict[i][0] = dict[i][1]/dict[i][2]"
   ]
  },
  {
   "cell_type": "code",
   "execution_count": 6,
   "metadata": {},
   "outputs": [],
   "source": [
    "sorted_averages = sorted(dict.items(), key=lambda x: x[1], reverse=True)"
   ]
  },
  {
   "cell_type": "code",
   "execution_count": 8,
   "metadata": {},
   "outputs": [
    {
     "name": "stdout",
     "output_type": "stream",
     "text": [
      "0 house 17.27\n",
      "1 home_improvement 15.346\n",
      "2 car 13.6385714286\n",
      "3 small_business 13.323\n",
      "4 other 13.2681818182\n",
      "5 debt_consolidation 12.8643119266\n",
      "6 vacation 12.42\n",
      "7 credit_card 12.1428888889\n",
      "8 major_purchase 10.9416666667\n",
      "9 medical 10.6366666667\n",
      "10 moving 9.91\n",
      "11 wedding 7.9\n"
     ]
    }
   ],
   "source": [
    "counter = 0\n",
    "x = []\n",
    "y = []\n",
    "\n",
    "for i in sorted_averages:\n",
    "    x.append(sorted_averages[counter][0])\n",
    "    y.append(sorted_averages[counter][1][0])\n",
    "    print(str(counter) + \" \" + str(sorted_averages[counter][0]) + \" \" + str(sorted_averages[counter][1][0]))\n",
    "    counter += 1"
   ]
  },
  {
   "cell_type": "code",
   "execution_count": 47,
   "metadata": {},
   "outputs": [
    {
     "data": {
      "image/png": "[encoded data removed]",
      "text/plain": [
       "<Figure size 1440x360 with 1 Axes>"
      ]
     },
     "metadata": {},
     "output_type": "display_data"
    }
   ],
   "source": [
    "import matplotlib.pyplot as plt\n",
    "import numpy as np\n",
    "\n",
    "f = plt.subplots(figsize=(20,5))\n",
    "pos = np.arange(0,len(x)*4,4)\n",
    "plt.bar(pos, y, width=3, align = \"center\", alpha=0.5, color = \"blue\")\n",
    "plt.xlabel(\"Purpose\")\n",
    "plt.ylabel(\"Average Interest Rate\")\n",
    "plt.xticks(pos, x, fontsize=12)\n",
    "\n",
    "plt.show()"
   ]
  }
 ],
 "metadata": {
  "kernelspec": {
   "display_name": "Python 3",
   "language": "python",
   "name": "python3"
  },
  "language_info": {
   "codemirror_mode": {
    "name": "ipython",
    "version": 3
   },
   "file_extension": ".py",
   "mimetype": "text/x-python",
   "name": "python",
   "nbconvert_exporter": "python",
   "pygments_lexer": "ipython3",
   "version": "3.6.1"
  }
 },
 "nbformat": 4,
 "nbformat_minor": 2
}
